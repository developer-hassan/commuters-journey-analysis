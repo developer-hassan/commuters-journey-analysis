{
 "cells": [
  {
   "cell_type": "markdown",
   "metadata": {},
   "source": [
    "# Introduction to Problem\n",
    "\n",
    "The dataset for the problem comprises records of commuter journeys. The Python codes are to be expressed to analyse the commuters journeys. We have to perform different data preperation tasks and then we would get different insights from the data. \n"
   ]
  },
  {
   "attachments": {},
   "cell_type": "markdown",
   "metadata": {},
   "source": [
    "## Dealing with Project Objectives\n",
    "\n",
    "(a) In the dataset, ‘-’, ‘--’, and ‘?’ are considered as missing values, and the variable columns of the dataset are noted as in the data dictionary in order. As part of data preparation, read the dataset in as a Pandas dataframe, with the above considerations."
   ]
  },
  {
   "cell_type": "code",
   "execution_count": 57,
   "metadata": {},
   "outputs": [],
   "source": [
    "# Importing the necessory library\n",
    "import pandas as pd"
   ]
  },
  {
   "cell_type": "code",
   "execution_count": 58,
   "metadata": {},
   "outputs": [
    {
     "name": "stderr",
     "output_type": "stream",
     "text": [
      "C:\\Users\\Muhammad Hassan\\AppData\\Local\\Temp\\ipykernel_3300\\3731410379.py:2: DtypeWarning: Columns (7,8) have mixed types. Specify dtype option on import or set low_memory=False.\n",
      "  commuters = pd.read_csv('../Data/commuters.csv')\n"
     ]
    },
    {
     "data": {
      "text/html": [
       "<div>\n",
       "<style scoped>\n",
       "    .dataframe tbody tr th:only-of-type {\n",
       "        vertical-align: middle;\n",
       "    }\n",
       "\n",
       "    .dataframe tbody tr th {\n",
       "        vertical-align: top;\n",
       "    }\n",
       "\n",
       "    .dataframe thead th {\n",
       "        text-align: right;\n",
       "    }\n",
       "</style>\n",
       "<table border=\"1\" class=\"dataframe\">\n",
       "  <thead>\n",
       "    <tr style=\"text-align: right;\">\n",
       "      <th></th>\n",
       "      <th>origin</th>\n",
       "      <th>destination</th>\n",
       "      <th>start</th>\n",
       "      <th>end</th>\n",
       "      <th>id</th>\n",
       "      <th>type</th>\n",
       "      <th>subscriber</th>\n",
       "      <th>yob</th>\n",
       "      <th>age</th>\n",
       "      <th>gender</th>\n",
       "    </tr>\n",
       "  </thead>\n",
       "  <tbody>\n",
       "    <tr>\n",
       "      <th>0</th>\n",
       "      <td>316.0</td>\n",
       "      <td>311.0</td>\n",
       "      <td>2022-01-01 00:07:41.040</td>\n",
       "      <td>2022-01-01 00:10:06.241</td>\n",
       "      <td>2473</td>\n",
       "      <td>Concession</td>\n",
       "      <td>No</td>\n",
       "      <td>1957</td>\n",
       "      <td>63</td>\n",
       "      <td>Male</td>\n",
       "    </tr>\n",
       "    <tr>\n",
       "      <th>1</th>\n",
       "      <td>74.0</td>\n",
       "      <td>70.0</td>\n",
       "      <td>2022-01-01 00:07:52.943</td>\n",
       "      <td>2022-01-01 00:19:47.075</td>\n",
       "      <td>2423</td>\n",
       "      <td>Regular</td>\n",
       "      <td>No</td>\n",
       "      <td>1986</td>\n",
       "      <td>34</td>\n",
       "      <td>Male</td>\n",
       "    </tr>\n",
       "    <tr>\n",
       "      <th>2</th>\n",
       "      <td>97.0</td>\n",
       "      <td>125.0</td>\n",
       "      <td>2022-01-01 00:09:31.745</td>\n",
       "      <td>2022-01-01 00:28:43.159</td>\n",
       "      <td>3455</td>\n",
       "      <td>Regular</td>\n",
       "      <td>No</td>\n",
       "      <td>1992</td>\n",
       "      <td>28</td>\n",
       "      <td>Male</td>\n",
       "    </tr>\n",
       "    <tr>\n",
       "      <th>3</th>\n",
       "      <td>11.0</td>\n",
       "      <td>323.0</td>\n",
       "      <td>2022-01-01 00:14:37.187</td>\n",
       "      <td>2022-01-01 00:37:16.445</td>\n",
       "      <td>2173</td>\n",
       "      <td>Ad-Hoc</td>\n",
       "      <td>No</td>\n",
       "      <td>1995</td>\n",
       "      <td>25</td>\n",
       "      <td>Male</td>\n",
       "    </tr>\n",
       "    <tr>\n",
       "      <th>4</th>\n",
       "      <td>17.0</td>\n",
       "      <td>8.0</td>\n",
       "      <td>2022-01-01 00:15:33.369</td>\n",
       "      <td>2022-01-01 00:58:56.522</td>\n",
       "      <td>1788</td>\n",
       "      <td>Regular</td>\n",
       "      <td>Yes</td>\n",
       "      <td>1994</td>\n",
       "      <td>26</td>\n",
       "      <td>Male</td>\n",
       "    </tr>\n",
       "  </tbody>\n",
       "</table>\n",
       "</div>"
      ],
      "text/plain": [
       "   origin  destination                    start                      end  \\\n",
       "0   316.0        311.0  2022-01-01 00:07:41.040  2022-01-01 00:10:06.241   \n",
       "1    74.0         70.0  2022-01-01 00:07:52.943  2022-01-01 00:19:47.075   \n",
       "2    97.0        125.0  2022-01-01 00:09:31.745  2022-01-01 00:28:43.159   \n",
       "3    11.0        323.0  2022-01-01 00:14:37.187  2022-01-01 00:37:16.445   \n",
       "4    17.0          8.0  2022-01-01 00:15:33.369  2022-01-01 00:58:56.522   \n",
       "\n",
       "     id        type subscriber   yob age gender  \n",
       "0  2473  Concession         No  1957  63   Male  \n",
       "1  2423     Regular         No  1986  34   Male  \n",
       "2  3455     Regular         No  1992  28   Male  \n",
       "3  2173      Ad-Hoc         No  1995  25   Male  \n",
       "4  1788     Regular        Yes  1994  26   Male  "
      ]
     },
     "execution_count": 58,
     "metadata": {},
     "output_type": "execute_result"
    }
   ],
   "source": [
    "# Reading the dataset as Pandas dataframe\n",
    "commuters = pd.read_csv('../Data/commuters.csv')\n",
    "commuters.head()"
   ]
  },
  {
   "cell_type": "code",
   "execution_count": 59,
   "metadata": {},
   "outputs": [
    {
     "name": "stdout",
     "output_type": "stream",
     "text": [
      "<class 'pandas.core.frame.DataFrame'>\n",
      "RangeIndex: 670009 entries, 0 to 670008\n",
      "Data columns (total 10 columns):\n",
      " #   Column       Non-Null Count   Dtype  \n",
      "---  ------       --------------   -----  \n",
      " 0   origin       669505 non-null  float64\n",
      " 1   destination  669505 non-null  float64\n",
      " 2   start        670009 non-null  object \n",
      " 3   end          670009 non-null  object \n",
      " 4   id           670009 non-null  int64  \n",
      " 5   type         670009 non-null  object \n",
      " 6   subscriber   670009 non-null  object \n",
      " 7   yob          670009 non-null  object \n",
      " 8   age          670009 non-null  object \n",
      " 9   gender       670009 non-null  object \n",
      "dtypes: float64(2), int64(1), object(7)\n",
      "memory usage: 51.1+ MB\n"
     ]
    }
   ],
   "source": [
    "# Checking the basic information about the data\n",
    "commuters.info()"
   ]
  },
  {
   "cell_type": "code",
   "execution_count": 60,
   "metadata": {},
   "outputs": [
    {
     "data": {
      "text/html": [
       "<div>\n",
       "<style scoped>\n",
       "    .dataframe tbody tr th:only-of-type {\n",
       "        vertical-align: middle;\n",
       "    }\n",
       "\n",
       "    .dataframe tbody tr th {\n",
       "        vertical-align: top;\n",
       "    }\n",
       "\n",
       "    .dataframe thead th {\n",
       "        text-align: right;\n",
       "    }\n",
       "</style>\n",
       "<table border=\"1\" class=\"dataframe\">\n",
       "  <thead>\n",
       "    <tr style=\"text-align: right;\">\n",
       "      <th></th>\n",
       "      <th>origin</th>\n",
       "      <th>destination</th>\n",
       "      <th>id</th>\n",
       "    </tr>\n",
       "  </thead>\n",
       "  <tbody>\n",
       "    <tr>\n",
       "      <th>count</th>\n",
       "      <td>669505.000000</td>\n",
       "      <td>669505.000000</td>\n",
       "      <td>670009.000000</td>\n",
       "    </tr>\n",
       "    <tr>\n",
       "      <th>mean</th>\n",
       "      <td>113.350947</td>\n",
       "      <td>111.389453</td>\n",
       "      <td>2174.952754</td>\n",
       "    </tr>\n",
       "    <tr>\n",
       "      <th>std</th>\n",
       "      <td>94.125066</td>\n",
       "      <td>93.750900</td>\n",
       "      <td>1183.285391</td>\n",
       "    </tr>\n",
       "    <tr>\n",
       "      <th>min</th>\n",
       "      <td>3.000000</td>\n",
       "      <td>3.000000</td>\n",
       "      <td>11.000000</td>\n",
       "    </tr>\n",
       "    <tr>\n",
       "      <th>25%</th>\n",
       "      <td>31.000000</td>\n",
       "      <td>30.000000</td>\n",
       "      <td>1177.000000</td>\n",
       "    </tr>\n",
       "    <tr>\n",
       "      <th>50%</th>\n",
       "      <td>84.000000</td>\n",
       "      <td>81.000000</td>\n",
       "      <td>2265.000000</td>\n",
       "    </tr>\n",
       "    <tr>\n",
       "      <th>75%</th>\n",
       "      <td>178.000000</td>\n",
       "      <td>178.000000</td>\n",
       "      <td>3188.000000</td>\n",
       "    </tr>\n",
       "    <tr>\n",
       "      <th>max</th>\n",
       "      <td>356.000000</td>\n",
       "      <td>356.000000</td>\n",
       "      <td>4307.000000</td>\n",
       "    </tr>\n",
       "  </tbody>\n",
       "</table>\n",
       "</div>"
      ],
      "text/plain": [
       "              origin    destination             id\n",
       "count  669505.000000  669505.000000  670009.000000\n",
       "mean      113.350947     111.389453    2174.952754\n",
       "std        94.125066      93.750900    1183.285391\n",
       "min         3.000000       3.000000      11.000000\n",
       "25%        31.000000      30.000000    1177.000000\n",
       "50%        84.000000      81.000000    2265.000000\n",
       "75%       178.000000     178.000000    3188.000000\n",
       "max       356.000000     356.000000    4307.000000"
      ]
     },
     "execution_count": 60,
     "metadata": {},
     "output_type": "execute_result"
    }
   ],
   "source": [
    "# Using describe() to get some more information about the features\n",
    "commuters.describe()"
   ]
  },
  {
   "cell_type": "markdown",
   "metadata": {},
   "source": [
    "(b) Identify the variable columns which have missing values. As part of data preparation, implement ways to treat them, and explain your rationale. State any interesting observation(s)."
   ]
  },
  {
   "cell_type": "code",
   "execution_count": 61,
   "metadata": {},
   "outputs": [
    {
     "data": {
      "text/plain": [
       "origin         504\n",
       "destination    504\n",
       "start            0\n",
       "end              0\n",
       "id               0\n",
       "type             0\n",
       "subscriber       0\n",
       "yob              0\n",
       "age              0\n",
       "gender           0\n",
       "dtype: int64"
      ]
     },
     "execution_count": 61,
     "metadata": {},
     "output_type": "execute_result"
    }
   ],
   "source": [
    "# Checking the null values in the dataset.\n",
    "commuters.isna().sum()"
   ]
  },
  {
   "cell_type": "markdown",
   "metadata": {},
   "source": [
    "**Observation**\n",
    "\n",
    "There are two columns in the dataset which have blank values in the samples. Both columns are of float datatype."
   ]
  },
  {
   "cell_type": "code",
   "execution_count": 62,
   "metadata": {},
   "outputs": [],
   "source": [
    "# Making a userdefined function to check which feature columns have any of the missing values.\n",
    "\n",
    "def has_missing_values(variable_column):\n",
    "    '''\n",
    "    Check any of the missing value in the variable column.\n",
    "    '''\n",
    "\n",
    "    missing_value_1 = \"-\" in variable_column\n",
    "    missing_value_2 = \"--\" in variable_column\n",
    "    missing_value_3 = \"?\" in variable_column\n",
    "    \n",
    "    to_return = [True]\n",
    "    if missing_value_1:\n",
    "        to_return.append(\"-\")\n",
    "    if missing_value_2:\n",
    "        to_return.append(\"--\")\n",
    "    if missing_value_3:\n",
    "        to_return.append(\"?\")\n",
    "\n",
    "    if missing_value_1 or missing_value_2 or missing_value_3:\n",
    "        return to_return\n",
    "    else:\n",
    "        return False"
   ]
  },
  {
   "cell_type": "code",
   "execution_count": 63,
   "metadata": {},
   "outputs": [],
   "source": [
    "def display_variables_missing_values(df):\n",
    "\n",
    "    # Storing the results in a dictionary by calling a function on all columns\n",
    "    result = {}\n",
    "    for column in df.columns:\n",
    "        result[column] = has_missing_values(list(df[column].unique()))\n",
    "\n",
    "    for variable, values in result.items():\n",
    "        print(f\"{variable}: {values}\")"
   ]
  },
  {
   "cell_type": "code",
   "execution_count": 64,
   "metadata": {},
   "outputs": [
    {
     "name": "stdout",
     "output_type": "stream",
     "text": [
      "origin: False\n",
      "destination: False\n",
      "start: False\n",
      "end: False\n",
      "id: False\n",
      "type: [True, '?']\n",
      "subscriber: False\n",
      "yob: [True, '--']\n",
      "age: [True, '--']\n",
      "gender: [True, '-']\n"
     ]
    }
   ],
   "source": [
    "display_variables_missing_values(commuters)"
   ]
  },
  {
   "cell_type": "markdown",
   "metadata": {},
   "source": [
    "**Observation**\n",
    "\n",
    "We have **identified** that the feature columns `origin` and `destination` have the blank values in them by using `isna()`. Also, there are the columns `type`, `yob`, `age`, and `gender` which have the missing values. The function is returing the columns which have missing values along with the missing values which are present in those columns."
   ]
  },
  {
   "cell_type": "markdown",
   "metadata": {},
   "source": [
    "### Treating the missing values"
   ]
  },
  {
   "cell_type": "markdown",
   "metadata": {},
   "source": [
    "When we are dealing with the missing values in a dataset, we can perform different operations on them. They could be:\n",
    "\n",
    "1. Fill the missing values with some appropriate value (Also known as Imputation)\n",
    "2. Remove the samples with the missing values altogether\n",
    "\n",
    "In the case of excessively large number of samples present, we can skip the samples with the missing values. Otherwise we prefer to fill them with some appropriate values.\n",
    "\n",
    "The missing values can be filled with the maximum number of values that are present in the column. They can also be filled with the average of all the available values in the case of numeric column. In some cases, we can fill the missing values with the label \"missing\" to identify that these were the cells which are filled during Imputation."
   ]
  },
  {
   "cell_type": "markdown",
   "metadata": {},
   "source": [
    "## Implementing the ways to treat missing values"
   ]
  },
  {
   "cell_type": "code",
   "execution_count": 65,
   "metadata": {},
   "outputs": [
    {
     "data": {
      "text/plain": [
       "origin         0\n",
       "destination    0\n",
       "start          0\n",
       "end            0\n",
       "id             0\n",
       "type           0\n",
       "subscriber     0\n",
       "yob            0\n",
       "age            0\n",
       "gender         0\n",
       "dtype: int64"
      ]
     },
     "execution_count": 65,
     "metadata": {},
     "output_type": "execute_result"
    }
   ],
   "source": [
    "# Removing the samples with missing values in the dataset\n",
    "commuters.dropna(subset=['origin'], inplace=True)\n",
    "commuters.isna().sum()"
   ]
  },
  {
   "cell_type": "code",
   "execution_count": 66,
   "metadata": {},
   "outputs": [
    {
     "name": "stdout",
     "output_type": "stream",
     "text": [
      "<class 'pandas.core.frame.DataFrame'>\n",
      "Int64Index: 669505 entries, 0 to 670007\n",
      "Data columns (total 10 columns):\n",
      " #   Column       Non-Null Count   Dtype  \n",
      "---  ------       --------------   -----  \n",
      " 0   origin       669505 non-null  float64\n",
      " 1   destination  669505 non-null  float64\n",
      " 2   start        669505 non-null  object \n",
      " 3   end          669505 non-null  object \n",
      " 4   id           669505 non-null  int64  \n",
      " 5   type         669505 non-null  object \n",
      " 6   subscriber   669505 non-null  object \n",
      " 7   yob          669505 non-null  object \n",
      " 8   age          669505 non-null  object \n",
      " 9   gender       669505 non-null  object \n",
      "dtypes: float64(2), int64(1), object(7)\n",
      "memory usage: 56.2+ MB\n"
     ]
    }
   ],
   "source": [
    "commuters.info()"
   ]
  },
  {
   "cell_type": "markdown",
   "metadata": {},
   "source": [
    "We can see that the `type` column has `?` missing value. As the `type` is of `object` datatype, we will be filling it with the maximum value that appears in the `type` column."
   ]
  },
  {
   "cell_type": "code",
   "execution_count": 67,
   "metadata": {},
   "outputs": [
    {
     "data": {
      "text/plain": [
       "Regular       554893\n",
       "Ad-Hoc         68030\n",
       "Concession     46572\n",
       "?                 10\n",
       "Name: type, dtype: int64"
      ]
     },
     "execution_count": 67,
     "metadata": {},
     "output_type": "execute_result"
    }
   ],
   "source": [
    "commuters['type'].value_counts()"
   ]
  },
  {
   "cell_type": "markdown",
   "metadata": {},
   "source": [
    "**Observation**\n",
    "\n",
    "`type` column has a value: `Regular` which appeared most of the times. So, we are filling the missing value with `Regular`."
   ]
  },
  {
   "cell_type": "code",
   "execution_count": 68,
   "metadata": {},
   "outputs": [],
   "source": [
    "commuters['type'] = commuters['type'].replace({\"?\": \"Regular\"})"
   ]
  },
  {
   "cell_type": "code",
   "execution_count": 69,
   "metadata": {},
   "outputs": [
    {
     "data": {
      "text/plain": [
       "Regular       554903\n",
       "Ad-Hoc         68030\n",
       "Concession     46572\n",
       "Name: type, dtype: int64"
      ]
     },
     "execution_count": 69,
     "metadata": {},
     "output_type": "execute_result"
    }
   ],
   "source": [
    "# Checking the \"type\" column for missing values\n",
    "commuters['type'].value_counts()"
   ]
  },
  {
   "cell_type": "markdown",
   "metadata": {},
   "source": [
    "**Observation**\n",
    "\n",
    "Now we see that, the missing value does not exist anymore. Similar procedure will be applied for other columns with missing values"
   ]
  },
  {
   "cell_type": "markdown",
   "metadata": {},
   "source": [
    "#### `yob` column"
   ]
  },
  {
   "cell_type": "code",
   "execution_count": 70,
   "metadata": {},
   "outputs": [
    {
     "data": {
      "text/plain": [
       "1988    35043\n",
       "1987    30583\n",
       "1989    29992\n",
       "1985    29113\n",
       "1984    27857\n",
       "        ...  \n",
       "1951      119\n",
       "1955      116\n",
       "1949      102\n",
       "1953       79\n",
       "--         10\n",
       "Name: yob, Length: 104, dtype: int64"
      ]
     },
     "execution_count": 70,
     "metadata": {},
     "output_type": "execute_result"
    }
   ],
   "source": [
    "commuters['yob'].value_counts()"
   ]
  },
  {
   "cell_type": "code",
   "execution_count": 71,
   "metadata": {},
   "outputs": [],
   "source": [
    "commuters['yob'] = commuters['yob'].replace({\"--\": 1988})"
   ]
  },
  {
   "cell_type": "code",
   "execution_count": 72,
   "metadata": {},
   "outputs": [
    {
     "data": {
      "text/plain": [
       "1988    35053\n",
       "1987    30583\n",
       "1989    29992\n",
       "1985    29113\n",
       "1984    27857\n",
       "        ...  \n",
       "1999      124\n",
       "1951      119\n",
       "1955      116\n",
       "1949      102\n",
       "1953       79\n",
       "Name: yob, Length: 103, dtype: int64"
      ]
     },
     "execution_count": 72,
     "metadata": {},
     "output_type": "execute_result"
    }
   ],
   "source": [
    "commuters['yob'].value_counts()     "
   ]
  },
  {
   "cell_type": "markdown",
   "metadata": {},
   "source": [
    "### `age` column"
   ]
  },
  {
   "cell_type": "code",
   "execution_count": 73,
   "metadata": {},
   "outputs": [
    {
     "data": {
      "text/plain": [
       "32    35043\n",
       "33    30583\n",
       "31    29992\n",
       "35    29113\n",
       "36    27857\n",
       "      ...  \n",
       "69      119\n",
       "65      116\n",
       "71      102\n",
       "67       79\n",
       "--       10\n",
       "Name: age, Length: 104, dtype: int64"
      ]
     },
     "execution_count": 73,
     "metadata": {},
     "output_type": "execute_result"
    }
   ],
   "source": [
    "commuters['age'].value_counts()"
   ]
  },
  {
   "cell_type": "code",
   "execution_count": 74,
   "metadata": {},
   "outputs": [],
   "source": [
    "commuters['age'] = commuters['age'].replace({\"--\": 32})"
   ]
  },
  {
   "cell_type": "code",
   "execution_count": 75,
   "metadata": {},
   "outputs": [
    {
     "data": {
      "text/plain": [
       "32    35053\n",
       "33    30583\n",
       "31    29992\n",
       "35    29113\n",
       "36    27857\n",
       "      ...  \n",
       "21      124\n",
       "69      119\n",
       "65      116\n",
       "71      102\n",
       "67       79\n",
       "Name: age, Length: 103, dtype: int64"
      ]
     },
     "execution_count": 75,
     "metadata": {},
     "output_type": "execute_result"
    }
   ],
   "source": [
    "commuters['age'].value_counts()"
   ]
  },
  {
   "cell_type": "markdown",
   "metadata": {},
   "source": [
    "### `gender` column"
   ]
  },
  {
   "cell_type": "code",
   "execution_count": 76,
   "metadata": {},
   "outputs": [
    {
     "data": {
      "text/plain": [
       "Male      493844\n",
       "Female    165749\n",
       "Other       9909\n",
       "-              3\n",
       "Name: gender, dtype: int64"
      ]
     },
     "execution_count": 76,
     "metadata": {},
     "output_type": "execute_result"
    }
   ],
   "source": [
    "commuters['gender'].value_counts()"
   ]
  },
  {
   "cell_type": "code",
   "execution_count": 77,
   "metadata": {},
   "outputs": [],
   "source": [
    "commuters['gender'] = commuters['gender'].replace({\"-\": \"Male\"})"
   ]
  },
  {
   "cell_type": "code",
   "execution_count": 78,
   "metadata": {},
   "outputs": [
    {
     "data": {
      "text/plain": [
       "Male      493847\n",
       "Female    165749\n",
       "Other       9909\n",
       "Name: gender, dtype: int64"
      ]
     },
     "execution_count": 78,
     "metadata": {},
     "output_type": "execute_result"
    }
   ],
   "source": [
    "commuters['gender'].value_counts()"
   ]
  },
  {
   "cell_type": "code",
   "execution_count": 79,
   "metadata": {},
   "outputs": [
    {
     "name": "stdout",
     "output_type": "stream",
     "text": [
      "origin: False\n",
      "destination: False\n",
      "start: False\n",
      "end: False\n",
      "id: False\n",
      "type: False\n",
      "subscriber: False\n",
      "yob: False\n",
      "age: False\n",
      "gender: False\n"
     ]
    }
   ],
   "source": [
    "# Checking whether any of the column still contains some missing values or not\n",
    "display_variables_missing_values(commuters)"
   ]
  },
  {
   "cell_type": "markdown",
   "metadata": {},
   "source": [
    "**Observation**\n",
    "\n",
    "All the missing values are now gone and the dataset is now filled."
   ]
  },
  {
   "cell_type": "markdown",
   "metadata": {},
   "source": [
    "### Interesting Observations\n",
    "\n",
    "1. When performing the replacement in the data, we encountered the issue of `chained indexing`. While the process of chain indexing, we got `SettingWithCopy` warning. This occured because in this case, it's hard to predict whether it will return a view or a copy. That's why we changed this method with the replacing method.\n",
    "2. While finding the missing values, the blank values were not being compared as they had not any specific datatype. So, for getting rid of those missing data, we removed the samples with the missing values. \n",
    "3. After handling with the missing values, our dataset is now filled and does not contain any missing values. "
   ]
  },
  {
   "cell_type": "markdown",
   "metadata": {},
   "source": [
    "(c) As part of data preparation, identify three (3) other data quality issues in the data. Similarly, suggest and implement ways to treat them, and explain your rationale."
   ]
  },
  {
   "cell_type": "markdown",
   "metadata": {},
   "source": [
    "## Other data qauality issues\n",
    "\n",
    "1. **Mixed Datatypes**: There is `type mismatch` in `age` and `yob` columns. Some of the values are in string format and some are in the numeric format. This cause the problem in dealing with the same kind of data. For example if we want to sort the list, it would not possible because of the data type mixing.\n",
    "2. **Create Dummy Variables**: There are some categorical variable columns which need to be reduced during data preperation. Keeping all our data in numeric format is one of the quality assurance about the data.\n",
    "3. **Too much Data**: I think that there is too much data in the dataset which is causing some difficulty in getting information from some attributes of data. Due to the massive amount of data, some other data quality issues are becoming more severe. It sometimes become difficult to extract information of such type of columns which have too much unique values as we cannot compare them with some other independent variable columns. Sometimes these kind of features need transformation to be properly scaled."
   ]
  },
  {
   "attachments": {},
   "cell_type": "markdown",
   "metadata": {},
   "source": [
    "### Treating issue 1"
   ]
  },
  {
   "cell_type": "code",
   "execution_count": 80,
   "metadata": {},
   "outputs": [
    {
     "data": {
      "text/plain": [
       "array(['63', '34', '28', '25', '26', '27', '36', '40', '35', '39', '29',\n",
       "       '30', '45', '31', '32', '37', '41', '33', '38', '42', '49', '47',\n",
       "       '57', '44', '55', '51', '24', '23', '22', '52', '60', '70', '59',\n",
       "       '46', '68', '62', '64', '58', '43', '54', '56', '66', '61', '67',\n",
       "       '65', '50', '48', '21', '69', '53', '71', 32, 55, 33, 53, 35, 38,\n",
       "       58, 27, 26, 31, 30, 28, 29, 42, 36, 37, 34, 48, 25, 43, 49, 64, 40,\n",
       "       41, 24, 44, 22, 50, 60, 39, 63, 65, 57, 61, 45, 56, 47, 52, 46, 21,\n",
       "       59, 23, 62, 51, 70, 68, 66, 54, 67, 69, 71, 20], dtype=object)"
      ]
     },
     "execution_count": 80,
     "metadata": {},
     "output_type": "execute_result"
    }
   ],
   "source": [
    "commuters['age'].unique()"
   ]
  },
  {
   "cell_type": "code",
   "execution_count": 81,
   "metadata": {},
   "outputs": [
    {
     "data": {
      "text/plain": [
       "array([63, 34, 28, 25, 26, 27, 36, 40, 35, 39, 29, 30, 45, 31, 32, 37, 41,\n",
       "       33, 38, 42, 49, 47, 57, 44, 55, 51, 24, 23, 22, 52, 60, 70, 59, 46,\n",
       "       68, 62, 64, 58, 43, 54, 56, 66, 61, 67, 65, 50, 48, 21, 69, 53, 71,\n",
       "       20], dtype=int64)"
      ]
     },
     "execution_count": 81,
     "metadata": {},
     "output_type": "execute_result"
    }
   ],
   "source": [
    "commuters['age'] = commuters['age'].astype('int64')\n",
    "commuters['age'].unique()"
   ]
  },
  {
   "cell_type": "code",
   "execution_count": 82,
   "metadata": {},
   "outputs": [
    {
     "data": {
      "text/plain": [
       "array(['1957', '1986', '1992', '1995', '1994', '1993', '1984', '1980',\n",
       "       '1985', '1981', '1991', '1990', '1975', '1989', '1988', '1983',\n",
       "       '1979', '1987', '1982', '1978', '1971', '1973', '1963', '1976',\n",
       "       '1965', '1969', '1996', '1997', '1998', '1968', '1960', '1950',\n",
       "       '1961', '1974', '1952', '1958', '1956', '1962', '1977', '1966',\n",
       "       '1964', '1954', '1959', '1953', '1955', '1970', '1972', '1999',\n",
       "       '1951', '1967', '1949', 1988, 1965, 1987, 1967, 1985, 1982, 1962,\n",
       "       1993, 1994, 1989, 1990, 1992, 1991, 1978, 1984, 1983, 1986, 1972,\n",
       "       1995, 1977, 1971, 1956, 1980, 1979, 1996, 1976, 1998, 1970, 1960,\n",
       "       1981, 1957, 1955, 1963, 1959, 1975, 1964, 1973, 1968, 1974, 1999,\n",
       "       1961, 1997, 1958, 1969, 1950, 1952, 1954, 1966, 1953, 1951, 1949,\n",
       "       2000], dtype=object)"
      ]
     },
     "execution_count": 82,
     "metadata": {},
     "output_type": "execute_result"
    }
   ],
   "source": [
    "commuters['yob'].unique()"
   ]
  },
  {
   "cell_type": "code",
   "execution_count": 83,
   "metadata": {},
   "outputs": [
    {
     "data": {
      "text/plain": [
       "array([1957, 1986, 1992, 1995, 1994, 1993, 1984, 1980, 1985, 1981, 1991,\n",
       "       1990, 1975, 1989, 1988, 1983, 1979, 1987, 1982, 1978, 1971, 1973,\n",
       "       1963, 1976, 1965, 1969, 1996, 1997, 1998, 1968, 1960, 1950, 1961,\n",
       "       1974, 1952, 1958, 1956, 1962, 1977, 1966, 1964, 1954, 1959, 1953,\n",
       "       1955, 1970, 1972, 1999, 1951, 1967, 1949, 2000], dtype=int64)"
      ]
     },
     "execution_count": 83,
     "metadata": {},
     "output_type": "execute_result"
    }
   ],
   "source": [
    "commuters['yob'] = commuters['yob'].astype('int64')\n",
    "commuters['yob'].unique()"
   ]
  },
  {
   "cell_type": "code",
   "execution_count": 84,
   "metadata": {},
   "outputs": [
    {
     "name": "stdout",
     "output_type": "stream",
     "text": [
      "<class 'pandas.core.frame.DataFrame'>\n",
      "Int64Index: 669505 entries, 0 to 670007\n",
      "Data columns (total 10 columns):\n",
      " #   Column       Non-Null Count   Dtype  \n",
      "---  ------       --------------   -----  \n",
      " 0   origin       669505 non-null  float64\n",
      " 1   destination  669505 non-null  float64\n",
      " 2   start        669505 non-null  object \n",
      " 3   end          669505 non-null  object \n",
      " 4   id           669505 non-null  int64  \n",
      " 5   type         669505 non-null  object \n",
      " 6   subscriber   669505 non-null  object \n",
      " 7   yob          669505 non-null  int64  \n",
      " 8   age          669505 non-null  int64  \n",
      " 9   gender       669505 non-null  object \n",
      "dtypes: float64(2), int64(3), object(5)\n",
      "memory usage: 56.2+ MB\n"
     ]
    }
   ],
   "source": [
    "commuters.info()"
   ]
  },
  {
   "attachments": {},
   "cell_type": "markdown",
   "metadata": {},
   "source": [
    "### Treating Issue 2"
   ]
  },
  {
   "cell_type": "code",
   "execution_count": 85,
   "metadata": {},
   "outputs": [
    {
     "data": {
      "text/html": [
       "<div>\n",
       "<style scoped>\n",
       "    .dataframe tbody tr th:only-of-type {\n",
       "        vertical-align: middle;\n",
       "    }\n",
       "\n",
       "    .dataframe tbody tr th {\n",
       "        vertical-align: top;\n",
       "    }\n",
       "\n",
       "    .dataframe thead th {\n",
       "        text-align: right;\n",
       "    }\n",
       "</style>\n",
       "<table border=\"1\" class=\"dataframe\">\n",
       "  <thead>\n",
       "    <tr style=\"text-align: right;\">\n",
       "      <th></th>\n",
       "      <th>origin</th>\n",
       "      <th>destination</th>\n",
       "      <th>start</th>\n",
       "      <th>end</th>\n",
       "      <th>id</th>\n",
       "      <th>type</th>\n",
       "      <th>subscriber</th>\n",
       "      <th>yob</th>\n",
       "      <th>age</th>\n",
       "      <th>gender</th>\n",
       "    </tr>\n",
       "  </thead>\n",
       "  <tbody>\n",
       "    <tr>\n",
       "      <th>0</th>\n",
       "      <td>316.0</td>\n",
       "      <td>311.0</td>\n",
       "      <td>2022-01-01 00:07:41.040</td>\n",
       "      <td>2022-01-01 00:10:06.241</td>\n",
       "      <td>2473</td>\n",
       "      <td>Concession</td>\n",
       "      <td>No</td>\n",
       "      <td>1957</td>\n",
       "      <td>63</td>\n",
       "      <td>Male</td>\n",
       "    </tr>\n",
       "    <tr>\n",
       "      <th>1</th>\n",
       "      <td>74.0</td>\n",
       "      <td>70.0</td>\n",
       "      <td>2022-01-01 00:07:52.943</td>\n",
       "      <td>2022-01-01 00:19:47.075</td>\n",
       "      <td>2423</td>\n",
       "      <td>Regular</td>\n",
       "      <td>No</td>\n",
       "      <td>1986</td>\n",
       "      <td>34</td>\n",
       "      <td>Male</td>\n",
       "    </tr>\n",
       "    <tr>\n",
       "      <th>2</th>\n",
       "      <td>97.0</td>\n",
       "      <td>125.0</td>\n",
       "      <td>2022-01-01 00:09:31.745</td>\n",
       "      <td>2022-01-01 00:28:43.159</td>\n",
       "      <td>3455</td>\n",
       "      <td>Regular</td>\n",
       "      <td>No</td>\n",
       "      <td>1992</td>\n",
       "      <td>28</td>\n",
       "      <td>Male</td>\n",
       "    </tr>\n",
       "    <tr>\n",
       "      <th>3</th>\n",
       "      <td>11.0</td>\n",
       "      <td>323.0</td>\n",
       "      <td>2022-01-01 00:14:37.187</td>\n",
       "      <td>2022-01-01 00:37:16.445</td>\n",
       "      <td>2173</td>\n",
       "      <td>Ad-Hoc</td>\n",
       "      <td>No</td>\n",
       "      <td>1995</td>\n",
       "      <td>25</td>\n",
       "      <td>Male</td>\n",
       "    </tr>\n",
       "    <tr>\n",
       "      <th>4</th>\n",
       "      <td>17.0</td>\n",
       "      <td>8.0</td>\n",
       "      <td>2022-01-01 00:15:33.369</td>\n",
       "      <td>2022-01-01 00:58:56.522</td>\n",
       "      <td>1788</td>\n",
       "      <td>Regular</td>\n",
       "      <td>Yes</td>\n",
       "      <td>1994</td>\n",
       "      <td>26</td>\n",
       "      <td>Male</td>\n",
       "    </tr>\n",
       "  </tbody>\n",
       "</table>\n",
       "</div>"
      ],
      "text/plain": [
       "   origin  destination                    start                      end  \\\n",
       "0   316.0        311.0  2022-01-01 00:07:41.040  2022-01-01 00:10:06.241   \n",
       "1    74.0         70.0  2022-01-01 00:07:52.943  2022-01-01 00:19:47.075   \n",
       "2    97.0        125.0  2022-01-01 00:09:31.745  2022-01-01 00:28:43.159   \n",
       "3    11.0        323.0  2022-01-01 00:14:37.187  2022-01-01 00:37:16.445   \n",
       "4    17.0          8.0  2022-01-01 00:15:33.369  2022-01-01 00:58:56.522   \n",
       "\n",
       "     id        type subscriber   yob  age gender  \n",
       "0  2473  Concession         No  1957   63   Male  \n",
       "1  2423     Regular         No  1986   34   Male  \n",
       "2  3455     Regular         No  1992   28   Male  \n",
       "3  2173      Ad-Hoc         No  1995   25   Male  \n",
       "4  1788     Regular        Yes  1994   26   Male  "
      ]
     },
     "execution_count": 85,
     "metadata": {},
     "output_type": "execute_result"
    }
   ],
   "source": [
    "commuters.head()"
   ]
  },
  {
   "cell_type": "code",
   "execution_count": 86,
   "metadata": {},
   "outputs": [
    {
     "data": {
      "text/html": [
       "<div>\n",
       "<style scoped>\n",
       "    .dataframe tbody tr th:only-of-type {\n",
       "        vertical-align: middle;\n",
       "    }\n",
       "\n",
       "    .dataframe tbody tr th {\n",
       "        vertical-align: top;\n",
       "    }\n",
       "\n",
       "    .dataframe thead th {\n",
       "        text-align: right;\n",
       "    }\n",
       "</style>\n",
       "<table border=\"1\" class=\"dataframe\">\n",
       "  <thead>\n",
       "    <tr style=\"text-align: right;\">\n",
       "      <th></th>\n",
       "      <th>type_Ad-Hoc</th>\n",
       "      <th>type_Concession</th>\n",
       "      <th>type_Regular</th>\n",
       "      <th>gender_Female</th>\n",
       "      <th>gender_Male</th>\n",
       "      <th>gender_Other</th>\n",
       "    </tr>\n",
       "  </thead>\n",
       "  <tbody>\n",
       "    <tr>\n",
       "      <th>0</th>\n",
       "      <td>0</td>\n",
       "      <td>1</td>\n",
       "      <td>0</td>\n",
       "      <td>0</td>\n",
       "      <td>1</td>\n",
       "      <td>0</td>\n",
       "    </tr>\n",
       "    <tr>\n",
       "      <th>1</th>\n",
       "      <td>0</td>\n",
       "      <td>0</td>\n",
       "      <td>1</td>\n",
       "      <td>0</td>\n",
       "      <td>1</td>\n",
       "      <td>0</td>\n",
       "    </tr>\n",
       "    <tr>\n",
       "      <th>2</th>\n",
       "      <td>0</td>\n",
       "      <td>0</td>\n",
       "      <td>1</td>\n",
       "      <td>0</td>\n",
       "      <td>1</td>\n",
       "      <td>0</td>\n",
       "    </tr>\n",
       "    <tr>\n",
       "      <th>3</th>\n",
       "      <td>1</td>\n",
       "      <td>0</td>\n",
       "      <td>0</td>\n",
       "      <td>0</td>\n",
       "      <td>1</td>\n",
       "      <td>0</td>\n",
       "    </tr>\n",
       "    <tr>\n",
       "      <th>4</th>\n",
       "      <td>0</td>\n",
       "      <td>0</td>\n",
       "      <td>1</td>\n",
       "      <td>0</td>\n",
       "      <td>1</td>\n",
       "      <td>0</td>\n",
       "    </tr>\n",
       "  </tbody>\n",
       "</table>\n",
       "</div>"
      ],
      "text/plain": [
       "   type_Ad-Hoc  type_Concession  type_Regular  gender_Female  gender_Male  \\\n",
       "0            0                1             0              0            1   \n",
       "1            0                0             1              0            1   \n",
       "2            0                0             1              0            1   \n",
       "3            1                0             0              0            1   \n",
       "4            0                0             1              0            1   \n",
       "\n",
       "   gender_Other  \n",
       "0             0  \n",
       "1             0  \n",
       "2             0  \n",
       "3             0  \n",
       "4             0  "
      ]
     },
     "execution_count": 86,
     "metadata": {},
     "output_type": "execute_result"
    }
   ],
   "source": [
    "dummies = pd.get_dummies(commuters[[\"type\", \"gender\"]])\n",
    "dummies.head()"
   ]
  },
  {
   "cell_type": "code",
   "execution_count": 87,
   "metadata": {},
   "outputs": [
    {
     "data": {
      "text/html": [
       "<div>\n",
       "<style scoped>\n",
       "    .dataframe tbody tr th:only-of-type {\n",
       "        vertical-align: middle;\n",
       "    }\n",
       "\n",
       "    .dataframe tbody tr th {\n",
       "        vertical-align: top;\n",
       "    }\n",
       "\n",
       "    .dataframe thead th {\n",
       "        text-align: right;\n",
       "    }\n",
       "</style>\n",
       "<table border=\"1\" class=\"dataframe\">\n",
       "  <thead>\n",
       "    <tr style=\"text-align: right;\">\n",
       "      <th></th>\n",
       "      <th>origin</th>\n",
       "      <th>destination</th>\n",
       "      <th>start</th>\n",
       "      <th>end</th>\n",
       "      <th>id</th>\n",
       "      <th>subscriber</th>\n",
       "      <th>yob</th>\n",
       "      <th>age</th>\n",
       "      <th>type_Ad-Hoc</th>\n",
       "      <th>type_Concession</th>\n",
       "      <th>type_Regular</th>\n",
       "      <th>gender_Female</th>\n",
       "      <th>gender_Male</th>\n",
       "      <th>gender_Other</th>\n",
       "    </tr>\n",
       "  </thead>\n",
       "  <tbody>\n",
       "    <tr>\n",
       "      <th>0</th>\n",
       "      <td>316.0</td>\n",
       "      <td>311.0</td>\n",
       "      <td>2022-01-01 00:07:41.040</td>\n",
       "      <td>2022-01-01 00:10:06.241</td>\n",
       "      <td>2473</td>\n",
       "      <td>No</td>\n",
       "      <td>1957</td>\n",
       "      <td>63</td>\n",
       "      <td>0</td>\n",
       "      <td>1</td>\n",
       "      <td>0</td>\n",
       "      <td>0</td>\n",
       "      <td>1</td>\n",
       "      <td>0</td>\n",
       "    </tr>\n",
       "    <tr>\n",
       "      <th>1</th>\n",
       "      <td>74.0</td>\n",
       "      <td>70.0</td>\n",
       "      <td>2022-01-01 00:07:52.943</td>\n",
       "      <td>2022-01-01 00:19:47.075</td>\n",
       "      <td>2423</td>\n",
       "      <td>No</td>\n",
       "      <td>1986</td>\n",
       "      <td>34</td>\n",
       "      <td>0</td>\n",
       "      <td>0</td>\n",
       "      <td>1</td>\n",
       "      <td>0</td>\n",
       "      <td>1</td>\n",
       "      <td>0</td>\n",
       "    </tr>\n",
       "    <tr>\n",
       "      <th>2</th>\n",
       "      <td>97.0</td>\n",
       "      <td>125.0</td>\n",
       "      <td>2022-01-01 00:09:31.745</td>\n",
       "      <td>2022-01-01 00:28:43.159</td>\n",
       "      <td>3455</td>\n",
       "      <td>No</td>\n",
       "      <td>1992</td>\n",
       "      <td>28</td>\n",
       "      <td>0</td>\n",
       "      <td>0</td>\n",
       "      <td>1</td>\n",
       "      <td>0</td>\n",
       "      <td>1</td>\n",
       "      <td>0</td>\n",
       "    </tr>\n",
       "    <tr>\n",
       "      <th>3</th>\n",
       "      <td>11.0</td>\n",
       "      <td>323.0</td>\n",
       "      <td>2022-01-01 00:14:37.187</td>\n",
       "      <td>2022-01-01 00:37:16.445</td>\n",
       "      <td>2173</td>\n",
       "      <td>No</td>\n",
       "      <td>1995</td>\n",
       "      <td>25</td>\n",
       "      <td>1</td>\n",
       "      <td>0</td>\n",
       "      <td>0</td>\n",
       "      <td>0</td>\n",
       "      <td>1</td>\n",
       "      <td>0</td>\n",
       "    </tr>\n",
       "    <tr>\n",
       "      <th>4</th>\n",
       "      <td>17.0</td>\n",
       "      <td>8.0</td>\n",
       "      <td>2022-01-01 00:15:33.369</td>\n",
       "      <td>2022-01-01 00:58:56.522</td>\n",
       "      <td>1788</td>\n",
       "      <td>Yes</td>\n",
       "      <td>1994</td>\n",
       "      <td>26</td>\n",
       "      <td>0</td>\n",
       "      <td>0</td>\n",
       "      <td>1</td>\n",
       "      <td>0</td>\n",
       "      <td>1</td>\n",
       "      <td>0</td>\n",
       "    </tr>\n",
       "  </tbody>\n",
       "</table>\n",
       "</div>"
      ],
      "text/plain": [
       "   origin  destination                    start                      end  \\\n",
       "0   316.0        311.0  2022-01-01 00:07:41.040  2022-01-01 00:10:06.241   \n",
       "1    74.0         70.0  2022-01-01 00:07:52.943  2022-01-01 00:19:47.075   \n",
       "2    97.0        125.0  2022-01-01 00:09:31.745  2022-01-01 00:28:43.159   \n",
       "3    11.0        323.0  2022-01-01 00:14:37.187  2022-01-01 00:37:16.445   \n",
       "4    17.0          8.0  2022-01-01 00:15:33.369  2022-01-01 00:58:56.522   \n",
       "\n",
       "     id subscriber   yob  age  type_Ad-Hoc  type_Concession  type_Regular  \\\n",
       "0  2473         No  1957   63            0                1             0   \n",
       "1  2423         No  1986   34            0                0             1   \n",
       "2  3455         No  1992   28            0                0             1   \n",
       "3  2173         No  1995   25            1                0             0   \n",
       "4  1788        Yes  1994   26            0                0             1   \n",
       "\n",
       "   gender_Female  gender_Male  gender_Other  \n",
       "0              0            1             0  \n",
       "1              0            1             0  \n",
       "2              0            1             0  \n",
       "3              0            1             0  \n",
       "4              0            1             0  "
      ]
     },
     "execution_count": 87,
     "metadata": {},
     "output_type": "execute_result"
    }
   ],
   "source": [
    "dummy_dataframe = commuters.drop([\"type\", \"gender\"], axis=1)\n",
    "pd.concat([dummy_dataframe, dummies], axis=1).head()"
   ]
  },
  {
   "cell_type": "markdown",
   "metadata": {},
   "source": [
    "**Observation**\n",
    "\n",
    "Now we have the encoded the values of the columns and the nominal nature of variables is reduced to numbers. We can use it in our dataset and then use for further procedure. If we treat any numerical column as a category, We can use astype to change them to 'category', 'str' or 'object' before converting it to dummy."
   ]
  },
  {
   "cell_type": "code",
   "execution_count": 88,
   "metadata": {},
   "outputs": [
    {
     "data": {
      "text/html": [
       "<div>\n",
       "<style scoped>\n",
       "    .dataframe tbody tr th:only-of-type {\n",
       "        vertical-align: middle;\n",
       "    }\n",
       "\n",
       "    .dataframe tbody tr th {\n",
       "        vertical-align: top;\n",
       "    }\n",
       "\n",
       "    .dataframe thead th {\n",
       "        text-align: right;\n",
       "    }\n",
       "</style>\n",
       "<table border=\"1\" class=\"dataframe\">\n",
       "  <thead>\n",
       "    <tr style=\"text-align: right;\">\n",
       "      <th></th>\n",
       "      <th>origin</th>\n",
       "      <th>destination</th>\n",
       "      <th>start</th>\n",
       "      <th>end</th>\n",
       "      <th>id</th>\n",
       "      <th>type</th>\n",
       "      <th>subscriber</th>\n",
       "      <th>yob</th>\n",
       "      <th>age</th>\n",
       "      <th>gender</th>\n",
       "    </tr>\n",
       "  </thead>\n",
       "  <tbody>\n",
       "    <tr>\n",
       "      <th>0</th>\n",
       "      <td>316.0</td>\n",
       "      <td>311.0</td>\n",
       "      <td>2022-01-01 00:07:41.040</td>\n",
       "      <td>2022-01-01 00:10:06.241</td>\n",
       "      <td>2473</td>\n",
       "      <td>Concession</td>\n",
       "      <td>No</td>\n",
       "      <td>1957</td>\n",
       "      <td>63</td>\n",
       "      <td>Male</td>\n",
       "    </tr>\n",
       "    <tr>\n",
       "      <th>1</th>\n",
       "      <td>74.0</td>\n",
       "      <td>70.0</td>\n",
       "      <td>2022-01-01 00:07:52.943</td>\n",
       "      <td>2022-01-01 00:19:47.075</td>\n",
       "      <td>2423</td>\n",
       "      <td>Regular</td>\n",
       "      <td>No</td>\n",
       "      <td>1986</td>\n",
       "      <td>34</td>\n",
       "      <td>Male</td>\n",
       "    </tr>\n",
       "    <tr>\n",
       "      <th>2</th>\n",
       "      <td>97.0</td>\n",
       "      <td>125.0</td>\n",
       "      <td>2022-01-01 00:09:31.745</td>\n",
       "      <td>2022-01-01 00:28:43.159</td>\n",
       "      <td>3455</td>\n",
       "      <td>Regular</td>\n",
       "      <td>No</td>\n",
       "      <td>1992</td>\n",
       "      <td>28</td>\n",
       "      <td>Male</td>\n",
       "    </tr>\n",
       "    <tr>\n",
       "      <th>3</th>\n",
       "      <td>11.0</td>\n",
       "      <td>323.0</td>\n",
       "      <td>2022-01-01 00:14:37.187</td>\n",
       "      <td>2022-01-01 00:37:16.445</td>\n",
       "      <td>2173</td>\n",
       "      <td>Ad-Hoc</td>\n",
       "      <td>No</td>\n",
       "      <td>1995</td>\n",
       "      <td>25</td>\n",
       "      <td>Male</td>\n",
       "    </tr>\n",
       "    <tr>\n",
       "      <th>4</th>\n",
       "      <td>17.0</td>\n",
       "      <td>8.0</td>\n",
       "      <td>2022-01-01 00:15:33.369</td>\n",
       "      <td>2022-01-01 00:58:56.522</td>\n",
       "      <td>1788</td>\n",
       "      <td>Regular</td>\n",
       "      <td>Yes</td>\n",
       "      <td>1994</td>\n",
       "      <td>26</td>\n",
       "      <td>Male</td>\n",
       "    </tr>\n",
       "  </tbody>\n",
       "</table>\n",
       "</div>"
      ],
      "text/plain": [
       "   origin  destination                    start                      end  \\\n",
       "0   316.0        311.0  2022-01-01 00:07:41.040  2022-01-01 00:10:06.241   \n",
       "1    74.0         70.0  2022-01-01 00:07:52.943  2022-01-01 00:19:47.075   \n",
       "2    97.0        125.0  2022-01-01 00:09:31.745  2022-01-01 00:28:43.159   \n",
       "3    11.0        323.0  2022-01-01 00:14:37.187  2022-01-01 00:37:16.445   \n",
       "4    17.0          8.0  2022-01-01 00:15:33.369  2022-01-01 00:58:56.522   \n",
       "\n",
       "     id        type subscriber   yob  age gender  \n",
       "0  2473  Concession         No  1957   63   Male  \n",
       "1  2423     Regular         No  1986   34   Male  \n",
       "2  3455     Regular         No  1992   28   Male  \n",
       "3  2173      Ad-Hoc         No  1995   25   Male  \n",
       "4  1788     Regular        Yes  1994   26   Male  "
      ]
     },
     "execution_count": 88,
     "metadata": {},
     "output_type": "execute_result"
    }
   ],
   "source": [
    "commuters.head()"
   ]
  },
  {
   "attachments": {},
   "cell_type": "markdown",
   "metadata": {},
   "source": [
    "### Treating Issue 3"
   ]
  },
  {
   "cell_type": "markdown",
   "metadata": {},
   "source": [
    "For treating this issue, we can transform our variables so that they can be matched with other variables in the dataset.\n",
    "\n",
    "But for achieving some sort of precision, we can also remove all the data with missing or ambiguous value so that our dataset can get rid of the records with missing values and also the massive nature of data can also be reduced along with that."
   ]
  },
  {
   "cell_type": "code",
   "execution_count": 89,
   "metadata": {},
   "outputs": [
    {
     "name": "stderr",
     "output_type": "stream",
     "text": [
      "C:\\Users\\Muhammad Hassan\\AppData\\Local\\Temp\\ipykernel_3300\\3526500470.py:2: DtypeWarning: Columns (7,8) have mixed types. Specify dtype option on import or set low_memory=False.\n",
      "  df = pd.read_csv('../Data/commuters.csv')\n"
     ]
    },
    {
     "data": {
      "text/html": [
       "<div>\n",
       "<style scoped>\n",
       "    .dataframe tbody tr th:only-of-type {\n",
       "        vertical-align: middle;\n",
       "    }\n",
       "\n",
       "    .dataframe tbody tr th {\n",
       "        vertical-align: top;\n",
       "    }\n",
       "\n",
       "    .dataframe thead th {\n",
       "        text-align: right;\n",
       "    }\n",
       "</style>\n",
       "<table border=\"1\" class=\"dataframe\">\n",
       "  <thead>\n",
       "    <tr style=\"text-align: right;\">\n",
       "      <th></th>\n",
       "      <th>origin</th>\n",
       "      <th>destination</th>\n",
       "      <th>start</th>\n",
       "      <th>end</th>\n",
       "      <th>id</th>\n",
       "      <th>type</th>\n",
       "      <th>subscriber</th>\n",
       "      <th>yob</th>\n",
       "      <th>age</th>\n",
       "      <th>gender</th>\n",
       "    </tr>\n",
       "  </thead>\n",
       "  <tbody>\n",
       "    <tr>\n",
       "      <th>0</th>\n",
       "      <td>316.0</td>\n",
       "      <td>311.0</td>\n",
       "      <td>2022-01-01 00:07:41.040</td>\n",
       "      <td>2022-01-01 00:10:06.241</td>\n",
       "      <td>2473</td>\n",
       "      <td>Concession</td>\n",
       "      <td>No</td>\n",
       "      <td>1957</td>\n",
       "      <td>63</td>\n",
       "      <td>Male</td>\n",
       "    </tr>\n",
       "    <tr>\n",
       "      <th>1</th>\n",
       "      <td>74.0</td>\n",
       "      <td>70.0</td>\n",
       "      <td>2022-01-01 00:07:52.943</td>\n",
       "      <td>2022-01-01 00:19:47.075</td>\n",
       "      <td>2423</td>\n",
       "      <td>Regular</td>\n",
       "      <td>No</td>\n",
       "      <td>1986</td>\n",
       "      <td>34</td>\n",
       "      <td>Male</td>\n",
       "    </tr>\n",
       "    <tr>\n",
       "      <th>2</th>\n",
       "      <td>97.0</td>\n",
       "      <td>125.0</td>\n",
       "      <td>2022-01-01 00:09:31.745</td>\n",
       "      <td>2022-01-01 00:28:43.159</td>\n",
       "      <td>3455</td>\n",
       "      <td>Regular</td>\n",
       "      <td>No</td>\n",
       "      <td>1992</td>\n",
       "      <td>28</td>\n",
       "      <td>Male</td>\n",
       "    </tr>\n",
       "    <tr>\n",
       "      <th>3</th>\n",
       "      <td>11.0</td>\n",
       "      <td>323.0</td>\n",
       "      <td>2022-01-01 00:14:37.187</td>\n",
       "      <td>2022-01-01 00:37:16.445</td>\n",
       "      <td>2173</td>\n",
       "      <td>Ad-Hoc</td>\n",
       "      <td>No</td>\n",
       "      <td>1995</td>\n",
       "      <td>25</td>\n",
       "      <td>Male</td>\n",
       "    </tr>\n",
       "    <tr>\n",
       "      <th>4</th>\n",
       "      <td>17.0</td>\n",
       "      <td>8.0</td>\n",
       "      <td>2022-01-01 00:15:33.369</td>\n",
       "      <td>2022-01-01 00:58:56.522</td>\n",
       "      <td>1788</td>\n",
       "      <td>Regular</td>\n",
       "      <td>Yes</td>\n",
       "      <td>1994</td>\n",
       "      <td>26</td>\n",
       "      <td>Male</td>\n",
       "    </tr>\n",
       "  </tbody>\n",
       "</table>\n",
       "</div>"
      ],
      "text/plain": [
       "   origin  destination                    start                      end  \\\n",
       "0   316.0        311.0  2022-01-01 00:07:41.040  2022-01-01 00:10:06.241   \n",
       "1    74.0         70.0  2022-01-01 00:07:52.943  2022-01-01 00:19:47.075   \n",
       "2    97.0        125.0  2022-01-01 00:09:31.745  2022-01-01 00:28:43.159   \n",
       "3    11.0        323.0  2022-01-01 00:14:37.187  2022-01-01 00:37:16.445   \n",
       "4    17.0          8.0  2022-01-01 00:15:33.369  2022-01-01 00:58:56.522   \n",
       "\n",
       "     id        type subscriber   yob age gender  \n",
       "0  2473  Concession         No  1957  63   Male  \n",
       "1  2423     Regular         No  1986  34   Male  \n",
       "2  3455     Regular         No  1992  28   Male  \n",
       "3  2173      Ad-Hoc         No  1995  25   Male  \n",
       "4  1788     Regular        Yes  1994  26   Male  "
      ]
     },
     "execution_count": 89,
     "metadata": {},
     "output_type": "execute_result"
    }
   ],
   "source": [
    "# Reading the dataset again\n",
    "df = pd.read_csv('../Data/commuters.csv')\n",
    "df.head()"
   ]
  },
  {
   "cell_type": "code",
   "execution_count": 90,
   "metadata": {},
   "outputs": [
    {
     "data": {
      "text/plain": [
       "670009"
      ]
     },
     "execution_count": 90,
     "metadata": {},
     "output_type": "execute_result"
    }
   ],
   "source": [
    "len(df)"
   ]
  },
  {
   "cell_type": "code",
   "execution_count": 91,
   "metadata": {},
   "outputs": [
    {
     "name": "stdout",
     "output_type": "stream",
     "text": [
      "origin: False\n",
      "destination: False\n",
      "start: False\n",
      "end: False\n",
      "id: False\n",
      "type: [True, '?']\n",
      "subscriber: False\n",
      "yob: [True, '--']\n",
      "age: [True, '--']\n",
      "gender: [True, '-']\n"
     ]
    }
   ],
   "source": [
    "# Checking whether any of the column contains some missing values or not\n",
    "display_variables_missing_values(df=df)"
   ]
  },
  {
   "cell_type": "code",
   "execution_count": 92,
   "metadata": {},
   "outputs": [
    {
     "data": {
      "text/plain": [
       "669986"
      ]
     },
     "execution_count": 92,
     "metadata": {},
     "output_type": "execute_result"
    }
   ],
   "source": [
    "# remove rows using the drop() function\n",
    "df.drop(df.index[df['type'] == '?'], inplace=True)\n",
    "df.drop(df.index[df['yob'] == '--'], inplace=True)\n",
    "df.drop(df.index[df['age'] == '--'], inplace=True)\n",
    "df.drop(df.index[df['gender'] == '-'], inplace=True)\n",
    "\n",
    "len(df)"
   ]
  },
  {
   "cell_type": "code",
   "execution_count": 93,
   "metadata": {},
   "outputs": [
    {
     "name": "stdout",
     "output_type": "stream",
     "text": [
      "origin: False\n",
      "destination: False\n",
      "start: False\n",
      "end: False\n",
      "id: False\n",
      "type: False\n",
      "subscriber: False\n",
      "yob: False\n",
      "age: False\n",
      "gender: False\n"
     ]
    }
   ],
   "source": [
    "# Checking whether any of the column contains some missing values or not\n",
    "display_variables_missing_values(df=df)"
   ]
  },
  {
   "cell_type": "markdown",
   "metadata": {},
   "source": [
    "**Observation**\n",
    "\n",
    "Here we can see that the input data now does not contain any assumed values. Also some amount of data is reduced which is not affecting much as compared to our initial amount of data. So, sometimes we need to remove the ambiguous data in order to retain the precision."
   ]
  },
  {
   "cell_type": "markdown",
   "metadata": {},
   "source": [
    "(d) Develop a user-defined function that will print the hour, expressed in the 12-hour clock format (e.g., 12am, 1pm), whereby the highest number of commuters start their journey."
   ]
  },
  {
   "cell_type": "code",
   "execution_count": 94,
   "metadata": {},
   "outputs": [
    {
     "data": {
      "text/plain": [
       "0         2022-01-01 00:07:41.040\n",
       "1         2022-01-01 00:07:52.943\n",
       "2         2022-01-01 00:09:31.745\n",
       "3         2022-01-01 00:14:37.187\n",
       "4         2022-01-01 00:15:33.369\n",
       "                   ...           \n",
       "670003    2022-06-18 17:42:30.437\n",
       "670004    2022-06-18 17:42:34.601\n",
       "670005    2022-06-18 17:42:37.555\n",
       "670006    2022-06-18 17:42:44.010\n",
       "670007    2022-06-18 17:42:52.902\n",
       "Name: start, Length: 669505, dtype: object"
      ]
     },
     "execution_count": 94,
     "metadata": {},
     "output_type": "execute_result"
    }
   ],
   "source": [
    "commuters['start']"
   ]
  },
  {
   "cell_type": "code",
   "execution_count": 95,
   "metadata": {},
   "outputs": [],
   "source": [
    "def get_highest_starting_hour():\n",
    "\n",
    "    start_times = []\n",
    "    for start_date_and_time in commuters['start']:\n",
    "        start_date_and_time = start_date_and_time.split(' ')\n",
    "        start_times.append(start_date_and_time[1])\n",
    "\n",
    "    occurences = {}\n",
    "    for start_time in start_times:\n",
    "        start_time = start_time.split(':')[0]\n",
    "        if start_time in occurences:\n",
    "            occurences[start_time] += 1\n",
    "        else:\n",
    "            occurences[start_time] = 1\n",
    "\n",
    "    highest_starting_hour = int(max(occurences, key=occurences.get))\n",
    "\n",
    "    if highest_starting_hour > 12:\n",
    "        return str(highest_starting_hour - 12) + \"pm\"\n",
    "    elif highest_starting_hour == 0:\n",
    "        return \"12am\"\n",
    "    elif highest_starting_hour == 12:\n",
    "        return \"12pm\"\n",
    "    else:\n",
    "        return highest_starting_hour + \"am\""
   ]
  },
  {
   "cell_type": "code",
   "execution_count": 96,
   "metadata": {},
   "outputs": [
    {
     "name": "stdout",
     "output_type": "stream",
     "text": [
      "The highest number of commuters start there journey at: 5pm\n"
     ]
    }
   ],
   "source": [
    "print(f\"The highest number of commuters start there journey at: {get_highest_starting_hour()}\")"
   ]
  },
  {
   "cell_type": "markdown",
   "metadata": {},
   "source": [
    "(e) Write a Python code to create appropriate visualisations of the commuter data. Analyse the results and then discuss three (3) interesting insights."
   ]
  },
  {
   "cell_type": "code",
   "execution_count": 97,
   "metadata": {},
   "outputs": [],
   "source": [
    "import matplotlib.pyplot as plt\n",
    "import numpy as np\n",
    "%matplotlib inline"
   ]
  },
  {
   "cell_type": "code",
   "execution_count": 98,
   "metadata": {},
   "outputs": [
    {
     "data": {
      "text/plain": [
       "Regular       554903\n",
       "Ad-Hoc         68030\n",
       "Concession     46572\n",
       "Name: type, dtype: int64"
      ]
     },
     "execution_count": 98,
     "metadata": {},
     "output_type": "execute_result"
    }
   ],
   "source": [
    "commuters['type'].value_counts()"
   ]
  },
  {
   "cell_type": "code",
   "execution_count": 99,
   "metadata": {},
   "outputs": [
    {
     "data": {
      "image/png": "[encoded data removed]",
      "text/plain": [
       "<Figure size 640x480 with 1 Axes>"
      ]
     },
     "metadata": {},
     "output_type": "display_data"
    }
   ],
   "source": [
    "commuters['type'].value_counts().plot(kind=\"bar\",\n",
    "                                      color=['salmon', 'lightblue', 'lightgreen']);\n",
    "\n",
    "plt.title('Frequency of Each Customer Profile Type')\n",
    "plt.xlabel('Customer Profile Type')\n",
    "plt.ylabel('Amount');"
   ]
  },
  {
   "cell_type": "markdown",
   "metadata": {},
   "source": [
    "**Observation**\n",
    "\n",
    "We can see that more number of commuters are of `Regular` type rather than Concession of Ad-Hoc. It means that the ratio of regular customers is more than the others. "
   ]
  },
  {
   "cell_type": "code",
   "execution_count": 100,
   "metadata": {},
   "outputs": [
    {
     "data": {
      "image/png": "[encoded data removed]",
      "text/plain": [
       "<Figure size 1000x600 with 1 Axes>"
      ]
     },
     "metadata": {},
     "output_type": "display_data"
    }
   ],
   "source": [
    "pd.crosstab(commuters.subscriber, commuters.type).plot(kind=\"bar\", figsize=(10, 6), color=[\"salmon\", \"lightblue\", \"lightgreen\"])\n",
    "\n",
    "plt.title(\"Subscribers Values for each Customer Profile Type\")\n",
    "plt.xlabel(\"Subscriber\")\n",
    "plt.ylabel(\"Count\");"
   ]
  },
  {
   "cell_type": "markdown",
   "metadata": {},
   "source": [
    "**Observation**\n",
    "\n",
    "We can see here that the more `Regular` commuters are `Non-Subscribing` commuters. Whereas here we can see that `Ad-Hoc` type of commuters are less in amount but all of them are Non-Subscribing. We cannot see any of `Ad-Hoc` commuter who is Subscribing as well."
   ]
  },
  {
   "cell_type": "code",
   "execution_count": 101,
   "metadata": {},
   "outputs": [
    {
     "data": {
      "image/png": "[encoded data removed]",
      "text/plain": [
       "<Figure size 1500x800 with 1 Axes>"
      ]
     },
     "metadata": {},
     "output_type": "display_data"
    }
   ],
   "source": [
    "pd.crosstab(commuters['age'], commuters['gender']).plot(kind=\"bar\", figsize=(15, 8), color=['salmon', 'lightblue', 'lightgreen'])\n",
    "\n",
    "plt.title(\"Age Frequency of each gender\")\n",
    "plt.xlabel(\"Age\")\n",
    "plt.ylabel(\"Count\");\n",
    "plt.yticks(np.arange(0, 30000, 1000));"
   ]
  },
  {
   "cell_type": "markdown",
   "metadata": {},
   "source": [
    "**Observation**\n",
    "\n",
    "Here we can infer that more of the commuters are Males. Also, the maximum number of commuters are of age `32`. This graph is clearly showing that we have very rare amount of commuters who have `other` gender. Also after age 60, there is quite less number of Females. The range of age can be seen from 20 to 71."
   ]
  },
  {
   "cell_type": "code",
   "execution_count": 102,
   "metadata": {},
   "outputs": [
    {
     "data": {
      "image/png": "[encoded data removed]",
      "text/plain": [
       "<Figure size 1200x800 with 1 Axes>"
      ]
     },
     "metadata": {},
     "output_type": "display_data"
    }
   ],
   "source": [
    "# Create figure\n",
    "plt.figure(figsize=(12,8))\n",
    "\n",
    "# Scatter for subsctibing customer\n",
    "plt.scatter(commuters.type[commuters.subscriber==\"Yes\"], \n",
    "            commuters.id[commuters.subscriber==\"Yes\"], \n",
    "            c=\"lightblue\"); # axis always come as (x, y)\n"
   ]
  },
  {
   "cell_type": "markdown",
   "metadata": {},
   "source": [
    "**Observation**\n",
    "\n",
    "From the given information we can infer that there are no `Ad-Hoc` type of commuters who are subscribers. But we can see the graph of those commuters who are non-subscriber. This will show us that the non-subscribers are of each type."
   ]
  },
  {
   "cell_type": "code",
   "execution_count": 103,
   "metadata": {},
   "outputs": [
    {
     "name": "stderr",
     "output_type": "stream",
     "text": [
      "C:\\Users\\Muhammad Hassan\\AppData\\Roaming\\Python\\Python310\\site-packages\\IPython\\core\\events.py:89: UserWarning: Creating legend with loc=\"best\" can be slow with large amounts of data.\n",
      "  func(*args, **kwargs)\n",
      "C:\\Users\\Muhammad Hassan\\AppData\\Roaming\\Python\\Python310\\site-packages\\IPython\\core\\pylabtools.py:151: UserWarning: Creating legend with loc=\"best\" can be slow with large amounts of data.\n",
      "  fig.canvas.print_figure(bytes_io, **kw)\n"
     ]
    },
    {
     "data": {
      "image/png": "[encoded data removed]",
      "text/plain": [
       "<Figure size 1200x800 with 1 Axes>"
      ]
     },
     "metadata": {},
     "output_type": "display_data"
    }
   ],
   "source": [
    "# Create figure\n",
    "plt.figure(figsize=(12,8))\n",
    "\n",
    "# Scatter for subsctibing customer\n",
    "plt.scatter(commuters.type[commuters.subscriber==\"Yes\"], \n",
    "            commuters.id[commuters.subscriber==\"Yes\"], \n",
    "            c=\"lightblue\") # axis always come as (x, y)\n",
    "\n",
    "\n",
    "# Scatter for non-subscribing customer\n",
    "plt.scatter(commuters.type[commuters.subscriber==\"No\"], \n",
    "            commuters.id[commuters.subscriber==\"No\"], \n",
    "            c=\"salmon\") # define it as a scatter figure\n",
    "\n",
    "# Add some helpful info\n",
    "plt.title(\"Subscriber in function of Type and Id\")\n",
    "plt.xlabel(\"Type\")\n",
    "plt.legend([\"Subscriber=No\", \"Subscriber=Yes\"])\n",
    "plt.ylabel(\"ID\")\n",
    "plt.yticks(np.arange(0, 4500, 250));"
   ]
  },
  {
   "cell_type": "markdown",
   "metadata": {},
   "source": [
    "**Observation**\n",
    "\n",
    "Now we can see that all the `lightblue` dots are hidden below the `salmon` dots. This is because the `non-subscribing` commuters are in all type of commuters and in all genders (will be shown below)"
   ]
  },
  {
   "cell_type": "code",
   "execution_count": 104,
   "metadata": {},
   "outputs": [
    {
     "data": {
      "image/png": "[encoded data removed]",
      "text/plain": [
       "<Figure size 1000x600 with 1 Axes>"
      ]
     },
     "metadata": {},
     "output_type": "display_data"
    }
   ],
   "source": [
    "pd.crosstab(commuters['subscriber'], commuters['gender']).plot(figsize=(10, 6), kind='bar', color=['salmon', 'lightblue', 'lightgreen']);\n",
    "\n",
    "# Add some helpful info\n",
    "plt.title(\"Subscriber Frequency of Each Gender\")\n",
    "plt.xlabel(\"Subscriber\")\n",
    "plt.legend([\"Female\", \"Male\", \"Other\"])\n",
    "plt.ylabel(\"Count\");"
   ]
  },
  {
   "cell_type": "markdown",
   "metadata": {},
   "source": [
    "**Observation**\n",
    "\n",
    "When we compare the subscribing and non-subscribing commuters, we can get to know that more number of Males and females are un-subscribing. Commuters with `other` as gender are only non-subscribing commuters. \n",
    "\n",
    "Now as a whole we can infer that more number of consumers are `Un-Subscribing` altogether."
   ]
  },
  {
   "cell_type": "markdown",
   "metadata": {},
   "source": [
    "## Interesting Insights"
   ]
  },
  {
   "cell_type": "markdown",
   "metadata": {},
   "source": [
    "1. More number of commuters are `Males`.\n",
    "2. More number of commuters are `Un-Subscribing`.\n",
    "3. We mostly have the `Regular` type of customers.\n",
    "4. We can feel that the commuters of age range `25-40` are in greater amount. This means that we have more young commuters than the other aged ones.\n",
    "5. Different commuters start their journey at different times but mostly the journey is started in evening time.\n"
   ]
  }
 ],
 "metadata": {
  "kernelspec": {
   "display_name": "Python 3",
   "language": "python",
   "name": "python3"
  },
  "language_info": {
   "codemirror_mode": {
    "name": "ipython",
    "version": 3
   },
   "file_extension": ".py",
   "mimetype": "text/x-python",
   "name": "python",
   "nbconvert_exporter": "python",
   "pygments_lexer": "ipython3",
   "version": "3.10.6"
  },
  "orig_nbformat": 4,
  "vscode": {
   "interpreter": {
    "hash": "74168164214943836de382e8988e54bc3f53138ea79bed9ed6669201da344c9c"
   }
  }
 },
 "nbformat": 4,
 "nbformat_minor": 2
}
